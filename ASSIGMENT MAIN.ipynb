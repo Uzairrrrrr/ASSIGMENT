{
 "cells": [
  {
   "cell_type": "code",
   "execution_count": 4,
   "id": "45ae9ab5",
   "metadata": {},
   "outputs": [
    {
     "name": "stdout",
     "output_type": "stream",
     "text": [
      "Select operation.\n",
      "1.Add\n",
      "2.Subtract\n",
      "3.Multiply\n",
      "4.Divide\n",
      "5.Power\n",
      "Enter choice(1/2/3/4/5): 4\n",
      "Enter First Number: 2\n",
      "Enter second number: 4\n",
      "0.5\n"
     ]
    }
   ],
   "source": [
    "# 1. Make a calculator using Python with addition , subtraction ,\n",
    "# multiplication ,division and power.\n",
    "def add(x, y):\n",
    "    return x + y\n",
    "\n",
    "def subtract(x, y):\n",
    "    return x - y\n",
    "\n",
    "def multiply(x, y):\n",
    "    return x * y\n",
    "\n",
    "def divide(x, y):\n",
    "    return x / y\n",
    "\n",
    "def power(x, y):\n",
    "    return x**2 \n",
    "\n",
    "print(\"Select operation.\")\n",
    "print(\"1.Add\")\n",
    "print(\"2.Subtract\")\n",
    "print(\"3.Multiply\")\n",
    "print(\"4.Divide\")\n",
    "print(\"5.Power\")\n",
    "\n",
    "choice = input(\"Enter choice(1/2/3/4/5): \")\n",
    "num1=int(input(\"Enter First Number: \"))\n",
    "if choice == '5':\n",
    "    print(num1 *num1)\n",
    "elif  choice == '1':\n",
    "    num2 = int(input(\"Enter second number: \"))\n",
    "    print(num1 + num2)\n",
    "elif  choice == '2':\n",
    "    num2 = int(input(\"Enter second number: \"))\n",
    "    print(num1 - num2)\n",
    "elif  choice == '3':\n",
    "    num2 = int(input(\"Enter second number: \"))\n",
    "    print(num1 * num2)\n",
    "elif  choice == '4':\n",
    "    num2 = int(input(\"Enter second number: \"))\n",
    "    print(num1 / num2)\n",
    "    "
   ]
  },
  {
   "cell_type": "code",
   "execution_count": 5,
   "id": "2c16b667",
   "metadata": {},
   "outputs": [
    {
     "name": "stdout",
     "output_type": "stream",
     "text": [
      "1\n"
     ]
    }
   ],
   "source": [
    "# 2. Write a program to check if there is any numeric value in list using for\n",
    "# loop.\n",
    "list = [\"abc\", \"def\", 1, \"ghi\"] \n",
    "for x in list: \n",
    "    if type(x) == int: \n",
    "        print(x)"
   ]
  },
  {
   "cell_type": "code",
   "execution_count": 6,
   "id": "e952bc3d",
   "metadata": {},
   "outputs": [
    {
     "name": "stdout",
     "output_type": "stream",
     "text": [
      "{1: 10, 16: 5}\n",
      "{1: 10, 16: 5, 2: 15}\n"
     ]
    }
   ],
   "source": [
    "# 3. Write a Python script to add a key to a dictionary.\n",
    "a ={1:10 , 16:5}\n",
    "print(a)\n",
    "a.update({2:15})\n",
    "print(a)"
   ]
  },
  {
   "cell_type": "code",
   "execution_count": 7,
   "id": "7e01aa81",
   "metadata": {},
   "outputs": [
    {
     "name": "stdout",
     "output_type": "stream",
     "text": [
      "207\n"
     ]
    }
   ],
   "source": [
    "# 4. Write a Python program to sum all the numeric items in a dictionary.\n",
    "my_list = {'data1':100,'data2':154,'data3':-47}\n",
    "print(sum(my_list.values()))"
   ]
  },
  {
   "cell_type": "code",
   "execution_count": 8,
   "id": "ced258e4",
   "metadata": {},
   "outputs": [
    {
     "name": "stdout",
     "output_type": "stream",
     "text": [
      "2 3 4 5 "
     ]
    }
   ],
   "source": [
    "# 5. Write a program to identify duplicate values from list.\n",
    "l=[1,2,3,4,5,2,3,4,7,9,5]\n",
    "l1=[]\n",
    "for i in l:\n",
    "    if i not in l1:\n",
    "        l1.append(i)\n",
    "    else:\n",
    "        print(i,end=' ')"
   ]
  },
  {
   "cell_type": "code",
   "execution_count": 11,
   "id": "a280e5c8",
   "metadata": {},
   "outputs": [
    {
     "name": "stdout",
     "output_type": "stream",
     "text": [
      "Key is present in the dictionary\n"
     ]
    }
   ],
   "source": [
    "# 6. Write a Python script to check if a given key already exists in a\n",
    "# dictionary\n",
    "d = {'data1': 9, 'data2': 10,' data3': 50,' data4': 10, 'data5': 20, 'data6': 90}\n",
    "if 'data2' in d:\n",
    "    print('Key is present in the dictionary')\n",
    "else:\n",
    "    print('Key is not present in the dictionary')"
   ]
  },
  {
   "cell_type": "code",
   "execution_count": null,
   "id": "fb3ba885",
   "metadata": {},
   "outputs": [],
   "source": []
  }
 ],
 "metadata": {
  "kernelspec": {
   "display_name": "Python 3",
   "language": "python",
   "name": "python3"
  },
  "language_info": {
   "codemirror_mode": {
    "name": "ipython",
    "version": 3
   },
   "file_extension": ".py",
   "mimetype": "text/x-python",
   "name": "python",
   "nbconvert_exporter": "python",
   "pygments_lexer": "ipython3",
   "version": "3.8.8"
  }
 },
 "nbformat": 4,
 "nbformat_minor": 5
}
